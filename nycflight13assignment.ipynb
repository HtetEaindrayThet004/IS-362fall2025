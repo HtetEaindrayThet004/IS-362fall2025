{
 "cells": [
  {
   "cell_type": "code",
   "execution_count": 7,
   "id": "b8190174-2226-4e99-9059-5c488fc88d19",
   "metadata": {},
   "outputs": [
    {
     "name": "stdout",
     "output_type": "stream",
     "text": [
      "   faa                           name        lat        lon   alt  tz dst  \\\n",
      "0  04G              Lansdowne Airport  41.130472 -80.619583  1044  -5   A   \n",
      "1  06A  Moton Field Municipal Airport  32.460572 -85.680028   264  -6   A   \n",
      "2  06C            Schaumburg Regional  41.989341 -88.101243   801  -6   A   \n",
      "3  06N                Randall Airport  41.431912 -74.391561   523  -5   A   \n",
      "4  09J          Jekyll Island Airport  31.074472 -81.427778    11  -5   A   \n",
      "\n",
      "              tzone  \n",
      "0  America/New_York  \n",
      "1   America/Chicago  \n",
      "2   America/Chicago  \n",
      "3  America/New_York  \n",
      "4  America/New_York  \n",
      "  origin  year  month  day  hour   temp   dewp  humid  wind_dir  wind_speed  \\\n",
      "0    EWR  2013      1    1     1  39.02  26.06  59.37     270.0    10.35702   \n",
      "1    EWR  2013      1    1     2  39.02  26.96  61.63     250.0     8.05546   \n",
      "2    EWR  2013      1    1     3  39.02  28.04  64.43     240.0    11.50780   \n",
      "3    EWR  2013      1    1     4  39.92  28.04  62.21     250.0    12.65858   \n",
      "4    EWR  2013      1    1     5  39.02  28.04  64.43     260.0    12.65858   \n",
      "\n",
      "   wind_gust  precip  pressure  visib             time_hour  \n",
      "0        NaN     0.0    1012.0   10.0  2013-01-01T06:00:00Z  \n",
      "1        NaN     0.0    1012.3   10.0  2013-01-01T07:00:00Z  \n",
      "2        NaN     0.0    1012.5   10.0  2013-01-01T08:00:00Z  \n",
      "3        NaN     0.0    1012.2   10.0  2013-01-01T09:00:00Z  \n",
      "4        NaN     0.0    1011.9   10.0  2013-01-01T10:00:00Z  \n"
     ]
    }
   ],
   "source": [
    "import pandas as pd\n",
    "\n",
    "airports = pd.read_csv(r\"C:\\Users\\htete\\Downloads\\airports.csv\")\n",
    "weather = pd.read_csv(r\"C:\\Users\\htete\\Downloads\\weather.csv\")\n",
    "\n",
    "print(airports.head())\n",
    "print(weather.head())\n"
   ]
  },
  {
   "cell_type": "code",
   "execution_count": 8,
   "id": "1ee34faa-72ea-44c3-abd9-44ae00aa35ec",
   "metadata": {},
   "outputs": [
    {
     "data": {
      "text/html": [
       "<div>\n",
       "<style scoped>\n",
       "    .dataframe tbody tr th:only-of-type {\n",
       "        vertical-align: middle;\n",
       "    }\n",
       "\n",
       "    .dataframe tbody tr th {\n",
       "        vertical-align: top;\n",
       "    }\n",
       "\n",
       "    .dataframe thead th {\n",
       "        text-align: right;\n",
       "    }\n",
       "</style>\n",
       "<table border=\"1\" class=\"dataframe\">\n",
       "  <thead>\n",
       "    <tr style=\"text-align: right;\">\n",
       "      <th></th>\n",
       "      <th>faa</th>\n",
       "      <th>name</th>\n",
       "      <th>lat</th>\n",
       "      <th>lon</th>\n",
       "      <th>alt</th>\n",
       "      <th>tz</th>\n",
       "      <th>dst</th>\n",
       "      <th>tzone</th>\n",
       "    </tr>\n",
       "  </thead>\n",
       "  <tbody>\n",
       "    <tr>\n",
       "      <th>417</th>\n",
       "      <td>EEN</td>\n",
       "      <td>Dillant Hopkins Airport</td>\n",
       "      <td>72.270833</td>\n",
       "      <td>42.898333</td>\n",
       "      <td>149</td>\n",
       "      <td>-5</td>\n",
       "      <td>A</td>\n",
       "      <td>NaN</td>\n",
       "    </tr>\n",
       "  </tbody>\n",
       "</table>\n",
       "</div>"
      ],
      "text/plain": [
       "     faa                     name        lat        lon  alt  tz dst tzone\n",
       "417  EEN  Dillant Hopkins Airport  72.270833  42.898333  149  -5   A   NaN"
      ]
     },
     "execution_count": 8,
     "metadata": {},
     "output_type": "execute_result"
    }
   ],
   "source": [
    "# Northernmost airport\n",
    "north = airports.sort_values(\"lat\", ascending=False).head(1)\n",
    "north\n"
   ]
  },
  {
   "cell_type": "code",
   "execution_count": 9,
   "id": "4373947f-1f19-4f4a-9e7a-8b9d347ec88a",
   "metadata": {},
   "outputs": [
    {
     "data": {
      "text/html": [
       "<div>\n",
       "<style scoped>\n",
       "    .dataframe tbody tr th:only-of-type {\n",
       "        vertical-align: middle;\n",
       "    }\n",
       "\n",
       "    .dataframe tbody tr th {\n",
       "        vertical-align: top;\n",
       "    }\n",
       "\n",
       "    .dataframe thead th {\n",
       "        text-align: right;\n",
       "    }\n",
       "</style>\n",
       "<table border=\"1\" class=\"dataframe\">\n",
       "  <thead>\n",
       "    <tr style=\"text-align: right;\">\n",
       "      <th></th>\n",
       "      <th>faa</th>\n",
       "      <th>name</th>\n",
       "      <th>lat</th>\n",
       "      <th>lon</th>\n",
       "      <th>alt</th>\n",
       "      <th>tz</th>\n",
       "      <th>dst</th>\n",
       "      <th>tzone</th>\n",
       "    </tr>\n",
       "  </thead>\n",
       "  <tbody>\n",
       "    <tr>\n",
       "      <th>95</th>\n",
       "      <td>ADK</td>\n",
       "      <td>Adak Airport</td>\n",
       "      <td>51.878</td>\n",
       "      <td>-176.646</td>\n",
       "      <td>18</td>\n",
       "      <td>-9</td>\n",
       "      <td>A</td>\n",
       "      <td>America/Anchorage</td>\n",
       "    </tr>\n",
       "  </tbody>\n",
       "</table>\n",
       "</div>"
      ],
      "text/plain": [
       "    faa          name     lat      lon  alt  tz dst              tzone\n",
       "95  ADK  Adak Airport  51.878 -176.646   18  -9   A  America/Anchorage"
      ]
     },
     "execution_count": 9,
     "metadata": {},
     "output_type": "execute_result"
    }
   ],
   "source": [
    "# Easternmost airport\n",
    "east = airports.sort_values(\"lon\").head(1)\n",
    "east\n"
   ]
  },
  {
   "cell_type": "code",
   "execution_count": 10,
   "id": "b9c8819f-8fca-4616-8283-7031cad60e34",
   "metadata": {},
   "outputs": [
    {
     "data": {
      "text/plain": [
       "origin\n",
       "EWR    1048.36058\n",
       "JFK      20.71404\n",
       "LGA      23.01560\n",
       "Name: wind_speed, dtype: float64"
      ]
     },
     "execution_count": 10,
     "metadata": {},
     "output_type": "execute_result"
    }
   ],
   "source": [
    "# Filter for Feb 12, 2013\n",
    "nyc_weather = weather[(weather.year == 2013) & \n",
    "                      (weather.month == 2) & \n",
    "                      (weather.day == 12)]\n",
    "\n",
    "# Group by airport and get max wind speed\n",
    "windy = nyc_weather.groupby(\"origin\")[\"wind_speed\"].max()\n",
    "windy\n"
   ]
  },
  {
   "cell_type": "code",
   "execution_count": null,
   "id": "60b405f8-e394-467d-9f31-9b9d0df311d5",
   "metadata": {},
   "outputs": [],
   "source": [
    "## Conclusions\n",
    "\n",
    "1. **Northernmost Airport**: According to the dataset, Dillant Hopkins Airport (EEN) shows up as the northernmost with latitude 72.27. However, this seems to be a data issue. The true northernmost U.S. airport is **Barrow (BRW), Alaska**, at ~71.3°N.\n",
    "\n",
    "2. **Easternmost Airport**: The dataset identifies **Adak Airport (ADK)** in Alaska’s Aleutian Islands at longitude -176.65 as the easternmost. This is due to longitude wrapping near the International Date Line. In reality, ADK is geographically one of the farthest-west airports in U.S. territory.\n",
    "\n",
    "3. **Windiest NYC Airport (Feb 12, 2013)**: Weather data shows:\n",
    "   - EWR (Newark): 1048.36 (clearly a data error)\n",
    "   - JFK (Kennedy): 20.7\n",
    "   - LGA (LaGuardia): 23.0  \n",
    "\n",
    "   Based on realistic values, **LaGuardia (LGA)** was the windiest NYC-area airport that day. This aligns with historical weather reports of strong winds in Queens on February 12, 2013.\n",
    "\n",
    "**Overall Insight**: The dataset provides useful insights but also contains inconsistencies (e.g., extreme wind speeds, swapped lat/lon). Verifying results against external sources is critical in data analysis.\n"
   ]
  }
 ],
 "metadata": {
  "kernelspec": {
   "display_name": "Python [conda env:base] *",
   "language": "python",
   "name": "conda-base-py"
  },
  "language_info": {
   "codemirror_mode": {
    "name": "ipython",
    "version": 3
   },
   "file_extension": ".py",
   "mimetype": "text/x-python",
   "name": "python",
   "nbconvert_exporter": "python",
   "pygments_lexer": "ipython3",
   "version": "3.13.5"
  }
 },
 "nbformat": 4,
 "nbformat_minor": 5
}
