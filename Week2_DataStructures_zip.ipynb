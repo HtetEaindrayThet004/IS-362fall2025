{
 "cells": [
  {
   "cell_type": "markdown",
   "id": "d0a2241b-2d58-4077-804a-0a15e03e495e",
   "metadata": {},
   "source": [
    "# Week 2 Assignment:`zip()` Function in Python\n"
   ]
  },
  {
   "cell_type": "markdown",
   "id": "ab021642-2444-4a9b-ad50-60cba14d1f82",
   "metadata": {},
   "source": [
    "In this notebook, I will explore the `zip()` function in Python.  \n",
    "The `zip()` function combines two or more iterables (like lists or tuples) into pairs.  \n",
    "It is useful when we want to iterate over multiple lists at the same time.\n"
   ]
  },
  {
   "cell_type": "markdown",
   "id": "76904cc2-65a3-43c6-ad38-e9ec9911918f",
   "metadata": {},
   "source": [
    "## Example 1: Basic usage of `zip()`\n",
    "\n",
    "Here we combine two lists into pairs using `zip()`.\n"
   ]
  },
  {
   "cell_type": "code",
   "execution_count": 1,
   "id": "5ccaa916-de70-49a4-93aa-b2d9d1f305b1",
   "metadata": {},
   "outputs": [
    {
     "name": "stdout",
     "output_type": "stream",
     "text": [
      "[(1, 'a'), (2, 'b'), (3, 'c')]\n"
     ]
    }
   ],
   "source": [
    "numbers = [1, 2, 3]\n",
    "letters = ['a', 'b', 'c']\n",
    "\n",
    "result = list(zip(numbers, letters))\n",
    "print(result)\n"
   ]
  },
  {
   "cell_type": "markdown",
   "id": "602f9fe6-b6f0-4503-813a-18bcd840d07b",
   "metadata": {},
   "source": [
    "## Example 2: Looping through zipped pairs\n",
    "\n",
    "We can loop through the result of `zip()` to access each pair individually.\n"
   ]
  },
  {
   "cell_type": "code",
   "execution_count": 2,
   "id": "8d778bdb-83c5-42af-b65f-92fcca14ad7f",
   "metadata": {},
   "outputs": [
    {
     "name": "stdout",
     "output_type": "stream",
     "text": [
      "Number: 1, Letter: a\n",
      "Number: 2, Letter: b\n",
      "Number: 3, Letter: c\n"
     ]
    }
   ],
   "source": [
    "for num, letter in zip(numbers, letters):\n",
    "    print(f\"Number: {num}, Letter: {letter}\")\n"
   ]
  },
  {
   "cell_type": "markdown",
   "id": "fb6c7995-1a36-4312-bc7d-e45f238ade27",
   "metadata": {},
   "source": [
    "## Example 3: Creating a dictionary with `zip()`\n",
    "\n",
    "We can use `zip()` with the `dict()` function to create dictionaries.\n"
   ]
  },
  {
   "cell_type": "code",
   "execution_count": 4,
   "id": "6622db22-de71-477c-8850-9c46fef36539",
   "metadata": {},
   "outputs": [
    {
     "name": "stdout",
     "output_type": "stream",
     "text": [
      "{'name': 'Alice', 'age': 25, 'city': 'New York'}\n"
     ]
    }
   ],
   "source": [
    "keys = ['name', 'age', 'city']\n",
    "values = ['Alice', 25, 'New York']\n",
    "\n",
    "person = dict(zip(keys, values))\n",
    "print(person)\n"
   ]
  },
  {
   "cell_type": "markdown",
   "id": "8fe30c0d-6317-46bb-a8c3-24bd01ad84b5",
   "metadata": {},
   "source": [
    "## Conclusion\n",
    "\n",
    "The `zip()` function is very useful when working with multiple lists.  \n",
    "It allows us to combine, loop through, and even create dictionaries easily.  \n",
    "Through these examples, I now have a better understanding of how `zip()` works in Python.\n"
   ]
  },
  {
   "cell_type": "code",
   "execution_count": null,
   "id": "f663ba03-3c48-491a-b53a-95a1fbdf7a27",
   "metadata": {},
   "outputs": [],
   "source": []
  }
 ],
 "metadata": {
  "kernelspec": {
   "display_name": "Python [conda env:base] *",
   "language": "python",
   "name": "conda-base-py"
  },
  "language_info": {
   "codemirror_mode": {
    "name": "ipython",
    "version": 3
   },
   "file_extension": ".py",
   "mimetype": "text/x-python",
   "name": "python",
   "nbconvert_exporter": "python",
   "pygments_lexer": "ipython3",
   "version": "3.13.5"
  }
 },
 "nbformat": 4,
 "nbformat_minor": 5
}
