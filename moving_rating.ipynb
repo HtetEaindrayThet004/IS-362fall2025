{
 "cells": [
  {
   "cell_type": "code",
   "execution_count": 2,
   "id": "4a2955a8-6483-42c5-961b-30e635721b94",
   "metadata": {},
   "outputs": [
    {
     "data": {
      "text/html": [
       "<div>\n",
       "<style scoped>\n",
       "    .dataframe tbody tr th:only-of-type {\n",
       "        vertical-align: middle;\n",
       "    }\n",
       "\n",
       "    .dataframe tbody tr th {\n",
       "        vertical-align: top;\n",
       "    }\n",
       "\n",
       "    .dataframe thead th {\n",
       "        text-align: right;\n",
       "    }\n",
       "</style>\n",
       "<table border=\"1\" class=\"dataframe\">\n",
       "  <thead>\n",
       "    <tr style=\"text-align: right;\">\n",
       "      <th></th>\n",
       "      <th>Oppenheimer</th>\n",
       "      <th>Barbie</th>\n",
       "      <th>Confupanda</th>\n",
       "      <th>No Way Home</th>\n",
       "      <th>Spider-Man</th>\n",
       "    </tr>\n",
       "    <tr>\n",
       "      <th>user</th>\n",
       "      <th></th>\n",
       "      <th></th>\n",
       "      <th></th>\n",
       "      <th></th>\n",
       "      <th></th>\n",
       "    </tr>\n",
       "  </thead>\n",
       "  <tbody>\n",
       "    <tr>\n",
       "      <th>Alice</th>\n",
       "      <td>NaN</td>\n",
       "      <td>4.0</td>\n",
       "      <td>5.0</td>\n",
       "      <td>4</td>\n",
       "      <td>5.0</td>\n",
       "    </tr>\n",
       "    <tr>\n",
       "      <th>Thaw</th>\n",
       "      <td>5.0</td>\n",
       "      <td>3.0</td>\n",
       "      <td>5.0</td>\n",
       "      <td>3</td>\n",
       "      <td>NaN</td>\n",
       "    </tr>\n",
       "    <tr>\n",
       "      <th>David</th>\n",
       "      <td>3.0</td>\n",
       "      <td>NaN</td>\n",
       "      <td>5.0</td>\n",
       "      <td>4</td>\n",
       "      <td>3.0</td>\n",
       "    </tr>\n",
       "    <tr>\n",
       "      <th>Lily</th>\n",
       "      <td>5.0</td>\n",
       "      <td>NaN</td>\n",
       "      <td>4.0</td>\n",
       "      <td>5</td>\n",
       "      <td>3.0</td>\n",
       "    </tr>\n",
       "    <tr>\n",
       "      <th>Christian</th>\n",
       "      <td>3.0</td>\n",
       "      <td>4.0</td>\n",
       "      <td>NaN</td>\n",
       "      <td>5</td>\n",
       "      <td>3.0</td>\n",
       "    </tr>\n",
       "  </tbody>\n",
       "</table>\n",
       "</div>"
      ],
      "text/plain": [
       "           Oppenheimer  Barbie  Confupanda  No Way Home  Spider-Man\n",
       "user                                                               \n",
       "Alice              NaN     4.0         5.0            4         5.0\n",
       "Thaw               5.0     3.0         5.0            3         NaN\n",
       "David              3.0     NaN         5.0            4         3.0\n",
       "Lily               5.0     NaN         4.0            5         3.0\n",
       "Christian          3.0     4.0         NaN            5         3.0"
      ]
     },
     "execution_count": 2,
     "metadata": {},
     "output_type": "execute_result"
    }
   ],
   "source": [
    "import pandas as pd\n",
    "df = pd.read_csv(r\"C:\\Users\\htete\\Downloads\\movie_ratings.csv\", index_col=0)\n",
    "df.head()"
   ]
  },
  {
   "cell_type": "code",
   "execution_count": 3,
   "id": "1c5b0909-1215-423f-81d6-17ab8b39f7df",
   "metadata": {},
   "outputs": [
    {
     "name": "stdout",
     "output_type": "stream",
     "text": [
      "user \n",
      "Alice        4.50\n",
      "Thaw         4.00\n",
      "David        3.75\n",
      "Lily         4.25\n",
      "Christian    3.75\n",
      "dtype: float64\n",
      "Oppenheimer    4.000000\n",
      "Barbie         3.666667\n",
      "Confupanda     4.750000\n",
      "No Way Home    4.200000\n",
      "Spider-Man     3.500000\n",
      "dtype: float64\n"
     ]
    }
   ],
   "source": [
    "user_avg = df.mean(axis=1, skipna=True)   # avg per user (row mean)\n",
    "movie_avg = df.mean(axis=0, skipna=True)  # avg per movie (column mean)\n",
    "print(user_avg)\n",
    "print(movie_avg)\n"
   ]
  },
  {
   "cell_type": "code",
   "execution_count": 4,
   "id": "51d70710-8055-4f73-9ab6-485de727caa1",
   "metadata": {},
   "outputs": [],
   "source": [
    "def min_max_norm(row):\n",
    "    mn = row.min(skipna=True)\n",
    "    mx = row.max(skipna=True)\n",
    "    if pd.isna(mn) or pd.isna(mx) or mx==mn:\n",
    "        return row.apply(lambda x: pd.NA)   # not enough variation\n",
    "    return (row - mn) / (mx - mn)\n",
    "\n",
    "norm_df = df.apply(min_max_norm, axis=1)\n",
    "# averages after normalization:\n",
    "user_avg_norm = norm_df.mean(axis=1, skipna=True)\n",
    "movie_avg_norm = norm_df.mean(axis=0, skipna=True)\n"
   ]
  },
  {
   "cell_type": "code",
   "execution_count": 5,
   "id": "859f7b5f-fb7f-418a-b34f-a478104e1ead",
   "metadata": {},
   "outputs": [
    {
     "data": {
      "text/html": [
       "<div>\n",
       "<style scoped>\n",
       "    .dataframe tbody tr th:only-of-type {\n",
       "        vertical-align: middle;\n",
       "    }\n",
       "\n",
       "    .dataframe tbody tr th {\n",
       "        vertical-align: top;\n",
       "    }\n",
       "\n",
       "    .dataframe thead th {\n",
       "        text-align: right;\n",
       "    }\n",
       "</style>\n",
       "<table border=\"1\" class=\"dataframe\">\n",
       "  <thead>\n",
       "    <tr style=\"text-align: right;\">\n",
       "      <th></th>\n",
       "      <th>Oppenheimer</th>\n",
       "      <th>Barbie</th>\n",
       "      <th>Confupanda</th>\n",
       "      <th>No Way Home</th>\n",
       "      <th>Spider-Man</th>\n",
       "    </tr>\n",
       "    <tr>\n",
       "      <th>user</th>\n",
       "      <th></th>\n",
       "      <th></th>\n",
       "      <th></th>\n",
       "      <th></th>\n",
       "      <th></th>\n",
       "    </tr>\n",
       "  </thead>\n",
       "  <tbody>\n",
       "    <tr>\n",
       "      <th>Alice</th>\n",
       "      <td>NaN</td>\n",
       "      <td>0.0</td>\n",
       "      <td>1.0</td>\n",
       "      <td>0.0</td>\n",
       "      <td>1.0</td>\n",
       "    </tr>\n",
       "    <tr>\n",
       "      <th>Thaw</th>\n",
       "      <td>1.0</td>\n",
       "      <td>0.0</td>\n",
       "      <td>1.0</td>\n",
       "      <td>0.0</td>\n",
       "      <td>NaN</td>\n",
       "    </tr>\n",
       "    <tr>\n",
       "      <th>David</th>\n",
       "      <td>0.0</td>\n",
       "      <td>NaN</td>\n",
       "      <td>1.0</td>\n",
       "      <td>0.5</td>\n",
       "      <td>0.0</td>\n",
       "    </tr>\n",
       "    <tr>\n",
       "      <th>Lily</th>\n",
       "      <td>1.0</td>\n",
       "      <td>NaN</td>\n",
       "      <td>0.5</td>\n",
       "      <td>1.0</td>\n",
       "      <td>0.0</td>\n",
       "    </tr>\n",
       "    <tr>\n",
       "      <th>Christian</th>\n",
       "      <td>0.0</td>\n",
       "      <td>0.5</td>\n",
       "      <td>NaN</td>\n",
       "      <td>1.0</td>\n",
       "      <td>0.0</td>\n",
       "    </tr>\n",
       "  </tbody>\n",
       "</table>\n",
       "</div>"
      ],
      "text/plain": [
       "           Oppenheimer  Barbie  Confupanda  No Way Home  Spider-Man\n",
       "user                                                               \n",
       "Alice              NaN     0.0         1.0          0.0         1.0\n",
       "Thaw               1.0     0.0         1.0          0.0         NaN\n",
       "David              0.0     NaN         1.0          0.5         0.0\n",
       "Lily               1.0     NaN         0.5          1.0         0.0\n",
       "Christian          0.0     0.5         NaN          1.0         0.0"
      ]
     },
     "metadata": {},
     "output_type": "display_data"
    },
    {
     "name": "stdout",
     "output_type": "stream",
     "text": [
      "\n",
      "Average normalized rating per user:\n"
     ]
    },
    {
     "data": {
      "text/plain": [
       "user \n",
       "Alice        0.500\n",
       "Thaw         0.500\n",
       "David        0.375\n",
       "Lily         0.625\n",
       "Christian    0.375\n",
       "dtype: float64"
      ]
     },
     "metadata": {},
     "output_type": "display_data"
    },
    {
     "name": "stdout",
     "output_type": "stream",
     "text": [
      "\n",
      "Average normalized rating per movie:\n"
     ]
    },
    {
     "data": {
      "text/plain": [
       "Oppenheimer    0.500000\n",
       "Barbie         0.166667\n",
       "Confupanda     0.875000\n",
       "No Way Home    0.500000\n",
       "Spider-Man     0.250000\n",
       "dtype: float64"
      ]
     },
     "metadata": {},
     "output_type": "display_data"
    }
   ],
   "source": [
    "# Display the normalized ratings table\n",
    "display(norm_df)\n",
    "\n",
    "# Display average per user (normalized)\n",
    "print(\"\\nAverage normalized rating per user:\")\n",
    "display(user_avg_norm)\n",
    "\n",
    "# Display average per movie (normalized)\n",
    "print(\"\\nAverage normalized rating per movie:\")\n",
    "display(movie_avg_norm)\n"
   ]
  },
  {
   "cell_type": "code",
   "execution_count": null,
   "id": "d6cf89d4-59be-4a64-9d1d-aea7d1cc0ad1",
   "metadata": {},
   "outputs": [],
   "source": []
  }
 ],
 "metadata": {
  "kernelspec": {
   "display_name": "Python [conda env:base] *",
   "language": "python",
   "name": "conda-base-py"
  },
  "language_info": {
   "codemirror_mode": {
    "name": "ipython",
    "version": 3
   },
   "file_extension": ".py",
   "mimetype": "text/x-python",
   "name": "python",
   "nbconvert_exporter": "python",
   "pygments_lexer": "ipython3",
   "version": "3.13.5"
  }
 },
 "nbformat": 4,
 "nbformat_minor": 5
}
